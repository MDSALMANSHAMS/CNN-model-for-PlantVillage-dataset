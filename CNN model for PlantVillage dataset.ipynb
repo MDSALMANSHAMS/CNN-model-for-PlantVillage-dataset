{
 "cells": [
  {
   "cell_type": "code",
   "execution_count": 32,
   "id": "a1c515f2",
   "metadata": {},
   "outputs": [
    {
     "name": "stdout",
     "output_type": "stream",
     "text": [
      "Found 162 files belonging to 1 classes.\n"
     ]
    }
   ],
   "source": [
    "import tensorflow as tf\n",
    "import numpy as np\n",
    "import matplotlib.pyplot as plt\n",
    "from tensorflow.keras import layers\n",
    "\n",
    "BATCH_SIZE = 1\n",
    "IMAGE_SIZE = 256\n",
    "EPOCHS = 50\n",
    "CHANNEL = 3\n",
    "\n",
    "dataset = tf.keras.preprocessing.image_dataset_from_directory(\"PlantVillage\",shuffle = True,image_size=(IMAGE_SIZE,IMAGE_SIZE),batch_size= BATCH_SIZE)"
   ]
  },
  {
   "cell_type": "code",
   "execution_count": 12,
   "id": "2a85c4bb",
   "metadata": {},
   "outputs": [
    {
     "name": "stdout",
     "output_type": "stream",
     "text": [
      "['Pepper__bell___Bacterial_spot']\n"
     ]
    }
   ],
   "source": [
    "class_names = dataset.class_names\n",
    "print(class_names)"
   ]
  },
  {
   "cell_type": "code",
   "execution_count": 13,
   "id": "ea635249",
   "metadata": {},
   "outputs": [],
   "source": [
    "def get_dataset_partition(dataset, train_split = 0.8, test_split = 0.1,val_split = 0.1, shuffle = True, shuffle_size = 10000):\n",
    "    assert (train_split + test_split + val_split)==1\n",
    "\n",
    "    data_size = len(dataset)\n",
    "    if shuffle:\n",
    "        dataset = dataset.shuffle(shuffle_size,seed = 12)\n",
    "    train_size = int(train_split*data_size)\n",
    "    val_size = int(val_split*data_size)\n",
    "\n",
    "    train_data = dataset.take(train_size)\n",
    "    val_data = dataset.skip(train_size).take(val_size)\n",
    "    test_data = dataset.skip(train_size).skip(val_size)\n",
    "\n",
    "    return train_data,val_data,test_data\n",
    "\n",
    "train_data, val_data, test_data = get_dataset_partition(dataset=dataset)\n",
    "\n",
    "train_ds = train_data.cache().shuffle(1000).prefetch(buffer_size = tf.data.AUTOTUNE)\n",
    "validation_ds = val_data.cache().shuffle(1000).prefetch(buffer_size = tf.data.AUTOTUNE)\n",
    "test_ds = test_data.cache().shuffle(1000).prefetch(buffer_size = tf.data.AUTOTUNE)"
   ]
  },
  {
   "cell_type": "code",
   "execution_count": 16,
   "id": "2f2704b1",
   "metadata": {},
   "outputs": [],
   "source": [
    "resize_rescale = tf.keras.Sequential([layers.experimental.preprocessing.Resizing(IMAGE_SIZE,IMAGE_SIZE),layers.experimental.preprocessing.Rescaling(1.0/255)])\n",
    "augmentation = tf.keras.Sequential([layers.experimental.preprocessing.RandomFlip(\"horizontal_and_vertical\"),layers.experimental.preprocessing.RandomRotation(0.2),layers.experimental.preprocessing.RandomZoom(0.2)])"
   ]
  },
  {
   "cell_type": "code",
   "execution_count": 33,
   "id": "70a014cb",
   "metadata": {},
   "outputs": [],
   "source": [
    "input_shape = (BATCH_SIZE,IMAGE_SIZE,IMAGE_SIZE,CHANNEL)\n",
    "n_class = 15\n",
    "model = tf.keras.Sequential(\n",
    "    [resize_rescale,\n",
    "    augmentation,\n",
    "    layers.Conv2D(16,kernel_size=(3,3),activation='relu',input_shape=input_shape,padding='same'),\n",
    "    layers.BatchNormalization(),\n",
    "    layers.MaxPooling2D((2,2)),\n",
    "    layers.Dropout(0.2),\n",
    "    layers.Conv2D(64,kernel_size=(3,3),activation='relu',padding='same'),\n",
    "    layers.BatchNormalization(),\n",
    "    layers.MaxPooling2D((2,2)),\n",
    "    layers.Conv2D(128,kernel_size=(3,3),activation='relu',padding='same'),\n",
    "    layers.BatchNormalization(),\n",
    "    layers.MaxPooling2D((2,2)),\n",
    "    layers.Dropout(0.2),\n",
    "    layers.Conv2D(512,kernel_size=(3,3),activation='relu',padding='same'),\n",
    "    layers.BatchNormalization(),\n",
    "    layers.MaxPooling2D((2,2)),\n",
    "    layers.Dropout(0.2),\n",
    "    layers.Conv2D(128,kernel_size=(3,3),activation='relu',padding='same'),\n",
    "    layers.BatchNormalization(),\n",
    "    layers.MaxPooling2D((2,2)),\n",
    "    layers.Dropout(0.2),\n",
    "    layers.Conv2D(64,kernel_size=(3,3),activation='relu',padding='same'),\n",
    "    layers.BatchNormalization(),\n",
    "    layers.MaxPooling2D((2,2)),\n",
    "    layers.Flatten(),\n",
    "    layers.Dense(64,activation='relu'),\n",
    "    layers.Dense(n_class,activation='softmax')]\n",
    ")\n",
    "\n",
    "model.build(input_shape=input_shape)"
   ]
  },
  {
   "cell_type": "code",
   "execution_count": 19,
   "id": "c5100a4e",
   "metadata": {},
   "outputs": [
    {
     "name": "stdout",
     "output_type": "stream",
     "text": [
      "Model: \"sequential_2\"\n",
      "_________________________________________________________________\n",
      " Layer (type)                Output Shape              Param #   \n",
      "=================================================================\n",
      " sequential (Sequential)     (1, 256, 256, 3)          0         \n",
      "                                                                 \n",
      " sequential_1 (Sequential)   (1, 256, 256, 3)          0         \n",
      "                                                                 \n",
      " conv2d (Conv2D)             (1, 256, 256, 16)         448       \n",
      "                                                                 \n",
      " batch_normalization (BatchN  (1, 256, 256, 16)        64        \n",
      " ormalization)                                                   \n",
      "                                                                 \n",
      " max_pooling2d (MaxPooling2D  (1, 128, 128, 16)        0         \n",
      " )                                                               \n",
      "                                                                 \n",
      " dropout (Dropout)           (1, 128, 128, 16)         0         \n",
      "                                                                 \n",
      " conv2d_1 (Conv2D)           (1, 128, 128, 64)         9280      \n",
      "                                                                 \n",
      " batch_normalization_1 (Batc  (1, 128, 128, 64)        256       \n",
      " hNormalization)                                                 \n",
      "                                                                 \n",
      " max_pooling2d_1 (MaxPooling  (1, 64, 64, 64)          0         \n",
      " 2D)                                                             \n",
      "                                                                 \n",
      " conv2d_2 (Conv2D)           (1, 64, 64, 128)          73856     \n",
      "                                                                 \n",
      " batch_normalization_2 (Batc  (1, 64, 64, 128)         512       \n",
      " hNormalization)                                                 \n",
      "                                                                 \n",
      " max_pooling2d_2 (MaxPooling  (1, 32, 32, 128)         0         \n",
      " 2D)                                                             \n",
      "                                                                 \n",
      " dropout_1 (Dropout)         (1, 32, 32, 128)          0         \n",
      "                                                                 \n",
      " conv2d_3 (Conv2D)           (1, 32, 32, 512)          590336    \n",
      "                                                                 \n",
      " batch_normalization_3 (Batc  (1, 32, 32, 512)         2048      \n",
      " hNormalization)                                                 \n",
      "                                                                 \n",
      " max_pooling2d_3 (MaxPooling  (1, 16, 16, 512)         0         \n",
      " 2D)                                                             \n",
      "                                                                 \n",
      " dropout_2 (Dropout)         (1, 16, 16, 512)          0         \n",
      "                                                                 \n",
      " conv2d_4 (Conv2D)           (1, 16, 16, 128)          589952    \n",
      "                                                                 \n",
      " batch_normalization_4 (Batc  (1, 16, 16, 128)         512       \n",
      " hNormalization)                                                 \n",
      "                                                                 \n",
      " max_pooling2d_4 (MaxPooling  (1, 8, 8, 128)           0         \n",
      " 2D)                                                             \n",
      "                                                                 \n",
      " dropout_3 (Dropout)         (1, 8, 8, 128)            0         \n",
      "                                                                 \n",
      " conv2d_5 (Conv2D)           (1, 8, 8, 64)             73792     \n",
      "                                                                 \n",
      " batch_normalization_5 (Batc  (1, 8, 8, 64)            256       \n",
      " hNormalization)                                                 \n",
      "                                                                 \n",
      " max_pooling2d_5 (MaxPooling  (1, 4, 4, 64)            0         \n",
      " 2D)                                                             \n",
      "                                                                 \n",
      " flatten (Flatten)           (1, 1024)                 0         \n",
      "                                                                 \n",
      " dense (Dense)               (1, 64)                   65600     \n",
      "                                                                 \n",
      " dense_1 (Dense)             (1, 15)                   975       \n",
      "                                                                 \n",
      "=================================================================\n",
      "Total params: 1,407,887\n",
      "Trainable params: 1,406,063\n",
      "Non-trainable params: 1,824\n",
      "_________________________________________________________________\n"
     ]
    }
   ],
   "source": [
    "model.summary()"
   ]
  },
  {
   "cell_type": "code",
   "execution_count": 20,
   "id": "707549e2",
   "metadata": {},
   "outputs": [],
   "source": [
    "model.compile(\n",
    "    optimizer='rmsprop',\n",
    "    loss=tf.keras.losses.SparseCategoricalCrossentropy(from_logits=False),\n",
    "    metrics=['accuracy']\n",
    ")"
   ]
  },
  {
   "cell_type": "code",
   "execution_count": 21,
   "id": "3ce57e03",
   "metadata": {},
   "outputs": [
    {
     "name": "stdout",
     "output_type": "stream",
     "text": [
      "Epoch 1/50\n",
      "129/129 [==============================] - 22s 146ms/step - loss: 0.0431 - accuracy: 0.9922 - val_loss: 0.0100 - val_accuracy: 1.0000\n",
      "Epoch 2/50\n",
      "129/129 [==============================] - 18s 142ms/step - loss: 5.6645e-07 - accuracy: 1.0000 - val_loss: 7.8976e-07 - val_accuracy: 1.0000\n",
      "Epoch 3/50\n",
      "129/129 [==============================] - 20s 152ms/step - loss: 9.2410e-10 - accuracy: 1.0000 - val_loss: 7.4506e-09 - val_accuracy: 1.0000\n",
      "Epoch 4/50\n",
      "129/129 [==============================] - 20s 156ms/step - loss: 0.0000e+00 - accuracy: 1.0000 - val_loss: 2.0862e-07 - val_accuracy: 1.0000\n",
      "Epoch 5/50\n",
      "129/129 [==============================] - 20s 155ms/step - loss: 0.0000e+00 - accuracy: 1.0000 - val_loss: 0.0057 - val_accuracy: 1.0000\n",
      "Epoch 6/50\n",
      "129/129 [==============================] - 20s 156ms/step - loss: 0.0000e+00 - accuracy: 1.0000 - val_loss: 1.2743e-04 - val_accuracy: 1.0000\n",
      "Epoch 7/50\n",
      "129/129 [==============================] - 20s 155ms/step - loss: 0.0000e+00 - accuracy: 1.0000 - val_loss: 6.5340e-06 - val_accuracy: 1.0000\n",
      "Epoch 8/50\n",
      "129/129 [==============================] - 20s 155ms/step - loss: 0.0000e+00 - accuracy: 1.0000 - val_loss: 2.3767e-06 - val_accuracy: 1.0000\n",
      "Epoch 9/50\n",
      "129/129 [==============================] - 20s 155ms/step - loss: 0.0000e+00 - accuracy: 1.0000 - val_loss: 8.0466e-07 - val_accuracy: 1.0000\n",
      "Epoch 10/50\n",
      "129/129 [==============================] - 20s 155ms/step - loss: 0.0000e+00 - accuracy: 1.0000 - val_loss: 1.1623e-06 - val_accuracy: 1.0000\n",
      "Epoch 11/50\n",
      "129/129 [==============================] - 20s 156ms/step - loss: 0.0000e+00 - accuracy: 1.0000 - val_loss: 9.3877e-07 - val_accuracy: 1.0000\n",
      "Epoch 12/50\n",
      "129/129 [==============================] - 20s 154ms/step - loss: 0.0000e+00 - accuracy: 1.0000 - val_loss: 2.4065e-06 - val_accuracy: 1.0000\n",
      "Epoch 13/50\n",
      "129/129 [==============================] - 20s 155ms/step - loss: 0.0000e+00 - accuracy: 1.0000 - val_loss: 3.6954e-06 - val_accuracy: 1.0000\n",
      "Epoch 14/50\n",
      "129/129 [==============================] - 20s 155ms/step - loss: 0.0000e+00 - accuracy: 1.0000 - val_loss: 9.3877e-07 - val_accuracy: 1.0000\n",
      "Epoch 15/50\n",
      "129/129 [==============================] - 20s 155ms/step - loss: 0.0000e+00 - accuracy: 1.0000 - val_loss: 3.8830e-05 - val_accuracy: 1.0000\n",
      "Epoch 16/50\n",
      "129/129 [==============================] - 20s 155ms/step - loss: 0.0000e+00 - accuracy: 1.0000 - val_loss: 1.5646e-06 - val_accuracy: 1.0000\n",
      "Epoch 17/50\n",
      "129/129 [==============================] - 20s 157ms/step - loss: 0.0000e+00 - accuracy: 1.0000 - val_loss: 1.8477e-06 - val_accuracy: 1.0000\n",
      "Epoch 18/50\n",
      "129/129 [==============================] - 20s 156ms/step - loss: 0.0000e+00 - accuracy: 1.0000 - val_loss: 1.8438e-05 - val_accuracy: 1.0000\n",
      "Epoch 19/50\n",
      "129/129 [==============================] - 20s 155ms/step - loss: 0.0000e+00 - accuracy: 1.0000 - val_loss: 2.0862e-07 - val_accuracy: 1.0000\n",
      "Epoch 20/50\n",
      "129/129 [==============================] - 20s 155ms/step - loss: 0.0000e+00 - accuracy: 1.0000 - val_loss: 1.0333e-05 - val_accuracy: 1.0000\n",
      "Epoch 21/50\n",
      "129/129 [==============================] - 20s 154ms/step - loss: 0.0000e+00 - accuracy: 1.0000 - val_loss: 2.2799e-06 - val_accuracy: 1.0000\n",
      "Epoch 22/50\n",
      "129/129 [==============================] - 20s 155ms/step - loss: 0.0000e+00 - accuracy: 1.0000 - val_loss: 2.6921e-05 - val_accuracy: 1.0000\n",
      "Epoch 23/50\n",
      "129/129 [==============================] - 20s 156ms/step - loss: 0.0000e+00 - accuracy: 1.0000 - val_loss: 3.7462e-05 - val_accuracy: 1.0000\n",
      "Epoch 24/50\n",
      "129/129 [==============================] - 20s 158ms/step - loss: 0.0000e+00 - accuracy: 1.0000 - val_loss: 4.5448e-07 - val_accuracy: 1.0000\n",
      "Epoch 25/50\n",
      "129/129 [==============================] - 20s 155ms/step - loss: 0.0000e+00 - accuracy: 1.0000 - val_loss: 3.5727e-05 - val_accuracy: 1.0000\n",
      "Epoch 26/50\n",
      "129/129 [==============================] - 20s 156ms/step - loss: 0.0000e+00 - accuracy: 1.0000 - val_loss: 1.6680e-05 - val_accuracy: 1.0000\n",
      "Epoch 27/50\n",
      "129/129 [==============================] - 20s 155ms/step - loss: 0.0000e+00 - accuracy: 1.0000 - val_loss: 1.2740e-06 - val_accuracy: 1.0000\n",
      "Epoch 28/50\n",
      "129/129 [==============================] - 20s 156ms/step - loss: 0.0000e+00 - accuracy: 1.0000 - val_loss: 1.4827e-06 - val_accuracy: 1.0000\n",
      "Epoch 29/50\n",
      "129/129 [==============================] - 20s 158ms/step - loss: 0.0000e+00 - accuracy: 1.0000 - val_loss: 8.7171e-07 - val_accuracy: 1.0000\n",
      "Epoch 30/50\n",
      "129/129 [==============================] - 20s 157ms/step - loss: 0.0000e+00 - accuracy: 1.0000 - val_loss: 1.2815e-06 - val_accuracy: 1.0000\n",
      "Epoch 31/50\n",
      "129/129 [==============================] - 20s 156ms/step - loss: 0.0000e+00 - accuracy: 1.0000 - val_loss: 8.7319e-06 - val_accuracy: 1.0000\n",
      "Epoch 32/50\n",
      "129/129 [==============================] - 20s 156ms/step - loss: 0.0000e+00 - accuracy: 1.0000 - val_loss: 4.1949e-05 - val_accuracy: 1.0000\n",
      "Epoch 33/50\n",
      "129/129 [==============================] - 20s 155ms/step - loss: 0.0000e+00 - accuracy: 1.0000 - val_loss: 3.0200e-05 - val_accuracy: 1.0000\n",
      "Epoch 34/50\n",
      "129/129 [==============================] - 20s 154ms/step - loss: 0.0000e+00 - accuracy: 1.0000 - val_loss: 5.0365e-06 - val_accuracy: 1.0000\n",
      "Epoch 35/50\n",
      "129/129 [==============================] - 20s 157ms/step - loss: 0.0000e+00 - accuracy: 1.0000 - val_loss: 3.1383e-05 - val_accuracy: 1.0000\n",
      "Epoch 36/50\n",
      "129/129 [==============================] - 20s 156ms/step - loss: 0.0000e+00 - accuracy: 1.0000 - val_loss: 2.5257e-06 - val_accuracy: 1.0000\n",
      "Epoch 37/50\n",
      "129/129 [==============================] - 20s 157ms/step - loss: 0.0000e+00 - accuracy: 1.0000 - val_loss: 1.1921e-07 - val_accuracy: 1.0000\n",
      "Epoch 38/50\n",
      "129/129 [==============================] - 20s 156ms/step - loss: 0.0000e+00 - accuracy: 1.0000 - val_loss: 2.5257e-06 - val_accuracy: 1.0000\n",
      "Epoch 39/50\n",
      "129/129 [==============================] - 20s 156ms/step - loss: 0.0000e+00 - accuracy: 1.0000 - val_loss: 1.3038e-06 - val_accuracy: 1.0000\n",
      "Epoch 40/50\n",
      "129/129 [==============================] - 20s 156ms/step - loss: 0.0000e+00 - accuracy: 1.0000 - val_loss: 1.0729e-06 - val_accuracy: 1.0000\n",
      "Epoch 41/50\n",
      "129/129 [==============================] - 21s 160ms/step - loss: 0.0000e+00 - accuracy: 1.0000 - val_loss: 2.1387e-05 - val_accuracy: 1.0000\n",
      "Epoch 42/50\n",
      "129/129 [==============================] - 20s 155ms/step - loss: 0.0000e+00 - accuracy: 1.0000 - val_loss: 9.0446e-06 - val_accuracy: 1.0000\n",
      "Epoch 43/50\n",
      "129/129 [==============================] - 20s 157ms/step - loss: 0.0000e+00 - accuracy: 1.0000 - val_loss: 1.7881e-07 - val_accuracy: 1.0000\n",
      "Epoch 44/50\n",
      "129/129 [==============================] - 20s 156ms/step - loss: 0.0000e+00 - accuracy: 1.0000 - val_loss: 4.1946e-06 - val_accuracy: 1.0000\n",
      "Epoch 45/50\n",
      "129/129 [==============================] - 20s 156ms/step - loss: 0.0000e+00 - accuracy: 1.0000 - val_loss: 2.6449e-06 - val_accuracy: 1.0000\n",
      "Epoch 46/50\n",
      "129/129 [==============================] - 20s 156ms/step - loss: 0.0000e+00 - accuracy: 1.0000 - val_loss: 8.5681e-07 - val_accuracy: 1.0000\n",
      "Epoch 47/50\n",
      "129/129 [==============================] - 20s 156ms/step - loss: 0.0000e+00 - accuracy: 1.0000 - val_loss: 1.0616e-05 - val_accuracy: 1.0000\n",
      "Epoch 48/50\n",
      "129/129 [==============================] - 20s 156ms/step - loss: 0.0000e+00 - accuracy: 1.0000 - val_loss: 2.0414e-06 - val_accuracy: 1.0000\n",
      "Epoch 49/50\n",
      "129/129 [==============================] - 20s 156ms/step - loss: 0.0000e+00 - accuracy: 1.0000 - val_loss: 1.4827e-06 - val_accuracy: 1.0000\n",
      "Epoch 50/50\n",
      "129/129 [==============================] - 20s 157ms/step - loss: 0.0000e+00 - accuracy: 1.0000 - val_loss: 2.2352e-07 - val_accuracy: 1.0000\n"
     ]
    }
   ],
   "source": [
    "history = model.fit(train_data,batch_size= BATCH_SIZE,validation_data = val_data,verbose = 1,epochs = EPOCHS)"
   ]
  },
  {
   "cell_type": "code",
   "execution_count": 22,
   "id": "5bc6f82d",
   "metadata": {},
   "outputs": [
    {
     "name": "stdout",
     "output_type": "stream",
     "text": [
      "17/17 [==============================] - 1s 36ms/step - loss: 4.6982e-07 - accuracy: 1.0000\n"
     ]
    }
   ],
   "source": [
    "score = model.evaluate(test_data)"
   ]
  },
  {
   "cell_type": "code",
   "execution_count": 26,
   "id": "772d42df",
   "metadata": {},
   "outputs": [],
   "source": [
    "acc = history.history['accuracy']\n",
    "val_acc = history.history['val_accuracy']\n",
    "loss = history.history['loss']\n",
    "val_loss = history.history['val_loss']"
   ]
  },
  {
   "cell_type": "code",
   "execution_count": 28,
   "id": "ad766edd",
   "metadata": {},
   "outputs": [
    {
     "data": {
      "text/plain": [
       "Text(0.5, 1.0, 'Training and Validation Accuracy')"
      ]
     },
     "execution_count": 28,
     "metadata": {},
     "output_type": "execute_result"
    },
    {
     "data": {
      "image/png": "[encoded data removed]",
      "text/plain": [
       "<Figure size 576x576 with 1 Axes>"
      ]
     },
     "metadata": {
      "needs_background": "light"
     },
     "output_type": "display_data"
    }
   ],
   "source": [
    "plt.figure(figsize=(8, 8))\n",
    "plt.subplot(1, 2, 1)\n",
    "plt.plot(range(EPOCHS), acc, label='Training Accuracy')\n",
    "plt.plot(range(EPOCHS), val_acc, label='Validation Accuracy')\n",
    "plt.legend(loc='lower right')\n",
    "plt.title('Training and Validation Accuracy')\n"
   ]
  },
  {
   "cell_type": "code",
   "execution_count": 29,
   "id": "97ed923a",
   "metadata": {},
   "outputs": [
    {
     "data": {
      "image/png": "[encoded data removed]",
      "text/plain": [
       "<Figure size 432x288 with 1 Axes>"
      ]
     },
     "metadata": {
      "needs_background": "light"
     },
     "output_type": "display_data"
    }
   ],
   "source": [
    "plt.subplot(1, 2, 2)\n",
    "plt.plot(range(EPOCHS), loss, label='Training Loss')\n",
    "plt.plot(range(EPOCHS), val_loss, label='Validation Loss')\n",
    "plt.legend(loc='upper right')\n",
    "plt.title('Training and Validation Loss')\n",
    "plt.show()"
   ]
  },
  {
   "cell_type": "code",
   "execution_count": 30,
   "id": "36ad0862",
   "metadata": {},
   "outputs": [
    {
     "name": "stderr",
     "output_type": "stream",
     "text": [
      "WARNING:absl:Found untraced functions such as _jit_compiled_convolution_op, _jit_compiled_convolution_op, _jit_compiled_convolution_op, _jit_compiled_convolution_op, _jit_compiled_convolution_op while saving (showing 5 of 6). These functions will not be directly callable after loading.\n"
     ]
    },
    {
     "name": "stdout",
     "output_type": "stream",
     "text": [
      "INFO:tensorflow:Assets written to: C:/my-files/programming/vs-code/PlantVillage-cnn/models\\assets\n"
     ]
    },
    {
     "name": "stderr",
     "output_type": "stream",
     "text": [
      "INFO:tensorflow:Assets written to: C:/my-files/programming/vs-code/PlantVillage-cnn/models\\assets\n"
     ]
    }
   ],
   "source": [
    "model.save(\"C:/my-files/programming/vs-code/PlantVillage-cnn/models\")"
   ]
  },
  {
   "cell_type": "code",
   "execution_count": 31,
   "id": "f44ed600",
   "metadata": {},
   "outputs": [],
   "source": [
    "model.save(\"C:/my-files/programming/vs-code/PlantVillage-cnn/plantvillage.h5\")"
   ]
  },
  {
   "cell_type": "code",
   "execution_count": null,
   "id": "ffcbc093",
   "metadata": {},
   "outputs": [],
   "source": []
  }
 ],
 "metadata": {
  "kernelspec": {
   "display_name": "Python 3 (ipykernel)",
   "language": "python",
   "name": "python3"
  },
  "language_info": {
   "codemirror_mode": {
    "name": "ipython",
    "version": 3
   },
   "file_extension": ".py",
   "mimetype": "text/x-python",
   "name": "python",
   "nbconvert_exporter": "python",
   "pygments_lexer": "ipython3",
   "version": "3.9.7"
  }
 },
 "nbformat": 4,
 "nbformat_minor": 5
}
